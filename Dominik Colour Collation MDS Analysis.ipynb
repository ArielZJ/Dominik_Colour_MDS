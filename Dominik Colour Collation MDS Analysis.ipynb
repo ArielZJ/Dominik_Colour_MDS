{
 "cells": [
  {
   "cell_type": "markdown",
   "id": "0abc2761-5530-4b32-a3f8-632be9b1162e",
   "metadata": {},
   "source": [
    "## Multidimensional scaling analysis of aggregated online participant colour judgments\n",
    "There are 93 distinct colours to be compared, making approx 93 x 93 / 2 = 4324 judgments. Each participant has contributed a random sample of a subset of these judgments, which have then been aggregated together. Let's see if we can make sense of the aggregation.\n",
    "\n",
    "Written by Ariel Zeleznikow-Johnston on 20-Aug-2021  \n",
    "ariel.zeleznikow-johnston@monash.edu"
   ]
  },
  {
   "cell_type": "markdown",
   "id": "bbf68413-9345-412e-bace-72543fc75b86",
   "metadata": {},
   "source": [
    "Necessary libraries"
   ]
  },
  {
   "cell_type": "code",
   "execution_count": 76,
   "id": "615d5b69-25c8-4533-9f44-a418f8c8b9ba",
   "metadata": {},
   "outputs": [],
   "source": [
    "library(rgl)\n"
   ]
  },
  {
   "cell_type": "markdown",
   "id": "aff0724b-d25b-40f4-a3e6-b0f9f63e1fc3",
   "metadata": {},
   "source": [
    "Load up the data"
   ]
  },
  {
   "cell_type": "code",
   "execution_count": 77,
   "id": "05c48c52-137a-44ab-86a5-4d91e3453fe7",
   "metadata": {},
   "outputs": [],
   "source": [
    "data.means <- read.csv(\"Data/means.csv\")\n",
    "data.medians <- read.csv(\"Data/medians.csv\")\n",
    "data.modes <- read.csv(\"Data/modes.csv\")"
   ]
  },
  {
   "cell_type": "code",
   "execution_count": 78,
   "id": "21a49cf1-52c2-48f0-bc5c-ab7437aff175",
   "metadata": {},
   "outputs": [],
   "source": [
    "rgb2hex <- function(triplet){\n",
    "    return(sapply(strsplit(triplet, \",\"), function(triplet)\n",
    "        rgb(triplet[1], triplet[2], triplet[3], maxColorValue=255)))\n",
    "}"
   ]
  },
  {
   "cell_type": "code",
   "execution_count": 79,
   "id": "bfa39f79-b2c2-4ee0-8914-ce771a965512",
   "metadata": {},
   "outputs": [],
   "source": [
    "colors <- rgb2hex(as.character(data.means$Row.RGB))\n",
    "data.means$Row.RGB <- colors"
   ]
  },
  {
   "cell_type": "code",
   "execution_count": 80,
   "id": "f58ba735-1559-46bb-9561-34b799d1a8d0",
   "metadata": {},
   "outputs": [],
   "source": [
    "col.RGB <- rev(data.means$Row.RGB)\n",
    "colnames(data.means) <- col.RGB\n",
    "rownames(data.means) <- data.means$Row.RGB\n",
    "data.means <- subset(data.means, select = -c(94))"
   ]
  },
  {
   "cell_type": "code",
   "execution_count": 81,
   "id": "a12fa001-7ba5-4197-9f18-a0525e610297",
   "metadata": {},
   "outputs": [],
   "source": [
    "#data.means"
   ]
  },
  {
   "cell_type": "code",
   "execution_count": 82,
   "id": "1f6e5cb5-cec1-41e5-b540-18eff6b6fa55",
   "metadata": {},
   "outputs": [],
   "source": [
    "data.dist <- dist(data.means,diag=TRUE)"
   ]
  },
  {
   "cell_type": "code",
   "execution_count": 83,
   "id": "da20e35b-b359-420e-b0fc-9ce3c164da95",
   "metadata": {},
   "outputs": [],
   "source": [
    "mean.mds <- cmdscale(data.dist,k=3)"
   ]
  },
  {
   "cell_type": "code",
   "execution_count": 84,
   "id": "ba1ee27b-9162-45fb-b4a6-425a19521570",
   "metadata": {},
   "outputs": [],
   "source": [
    "#Calculate MDS\n",
    "data.mds <- cmdscale(data.dist, k=3)\n",
    "\n",
    "#Create x,y refs\n",
    "data.x <- data.mds[,1]\n",
    "data.y <- data.mds[,2]\n",
    "data.z <- data.mds[,3]"
   ]
  },
  {
   "cell_type": "code",
   "execution_count": 86,
   "id": "f027bb4f-a5e1-4f8d-af2d-184def188671",
   "metadata": {},
   "outputs": [],
   "source": [
    "plot <- plot3d(data.x,data.y,data.z, col = colors)"
   ]
  },
  {
   "cell_type": "code",
   "execution_count": null,
   "id": "a922975a-59cd-41c3-86eb-5190d2f703d9",
   "metadata": {},
   "outputs": [],
   "source": []
  }
 ],
 "metadata": {
  "kernelspec": {
   "display_name": "R",
   "language": "R",
   "name": "ir"
  },
  "language_info": {
   "codemirror_mode": "r",
   "file_extension": ".r",
   "mimetype": "text/x-r-source",
   "name": "R",
   "pygments_lexer": "r",
   "version": "3.6.1"
  }
 },
 "nbformat": 4,
 "nbformat_minor": 5
}
